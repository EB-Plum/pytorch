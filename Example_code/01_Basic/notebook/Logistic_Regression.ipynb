{
 "cells": [
  {
   "cell_type": "markdown",
   "metadata": {},
   "source": [
    "# Importing Module"
   ]
  },
  {
   "cell_type": "code",
   "execution_count": 1,
   "metadata": {},
   "outputs": [],
   "source": [
    "import torch\n",
    "from torch import nn\n",
    "from torch import optim\n",
    "from torch.nn import functional as F\n",
    "from torch.utils.data import DataLoader\n",
    "\n",
    "from torchvision import datasets\n",
    "from torchvision import transforms\n",
    "\n",
    "import os\n",
    "import numpy as np\n",
    "from matplotlib import pyplot as plt"
   ]
  },
  {
   "cell_type": "markdown",
   "metadata": {},
   "source": [
    "# Loading Data"
   ]
  },
  {
   "cell_type": "code",
   "execution_count": 2,
   "metadata": {},
   "outputs": [],
   "source": [
    "def find_data_dir():\n",
    "    data_path = 'data'\n",
    "    while os.path.exists(data_path) != True:\n",
    "        data_path = '../' + data_path\n",
    "        \n",
    "    return data_path"
   ]
  },
  {
   "cell_type": "code",
   "execution_count": 3,
   "metadata": {},
   "outputs": [
    {
     "name": "stdout",
     "output_type": "stream",
     "text": [
      "Downloading Train Data Done ! \n",
      "Downloading Test Data Done ! \n"
     ]
    }
   ],
   "source": [
    "# MNIST dataset\n",
    "mnist_train = datasets.MNIST(root=find_data_dir(),\n",
    "                          train=True,\n",
    "                          transform=transforms.ToTensor(),\n",
    "                          download=True)\n",
    "print(\"Downloading Train Data Done ! \")\n",
    "\n",
    "mnist_test = datasets.MNIST(root=find_data_dir(),\n",
    "                         train=False,\n",
    "                         transform=transforms.ToTensor(),\n",
    "                         download=True)\n",
    "print(\"Downloading Test Data Done ! \")"
   ]
  },
  {
   "cell_type": "markdown",
   "metadata": {},
   "source": [
    "# Defining Model"
   ]
  },
  {
   "cell_type": "code",
   "execution_count": 4,
   "metadata": {},
   "outputs": [],
   "source": [
    "device = torch.device('cuda' if torch.cuda.is_available() else 'cpu')\n",
    "\n",
    "# our model\n",
    "class Model(nn.Module):\n",
    "    def __init__(self):\n",
    "        super(Model, self).__init__()\n",
    "        self.linear = nn.Linear(784,10)\n",
    "\n",
    "    def forward(self, X):\n",
    "        X = self.linear(X)\n",
    "        return X\n",
    "\n",
    "model = Model().to(device)\n",
    "\n",
    "criterion  = nn.CrossEntropyLoss()\n",
    "optimizer = optim.SGD(model.parameters(), lr=0.01)"
   ]
  },
  {
   "cell_type": "markdown",
   "metadata": {},
   "source": [
    "# Training Phase"
   ]
  },
  {
   "cell_type": "code",
   "execution_count": 6,
   "metadata": {},
   "outputs": [
    {
     "name": "stdout",
     "output_type": "stream",
     "text": [
      "Epoch :  1 Iteration :  100  Loss :  1.89637451171875\n",
      "Epoch :  1 Iteration :  200  Loss :  1.6269911193847657\n",
      "Epoch :  1 Iteration :  300  Loss :  1.4459269205729166\n",
      "Epoch :  1 Iteration :  400  Loss :  1.3205406188964843\n",
      "Epoch :  1 Iteration :  500  Loss :  1.2250523681640626\n",
      "Epoch :  1 Iteration :  600  Loss :  1.1498117065429687\n",
      "Epoch :  1  Loss :  1.1498117065429687\n",
      "Epoch :  2 Iteration :  100  Loss :  0.7193431854248047\n",
      "Epoch :  2 Iteration :  200  Loss :  0.6976775360107422\n",
      "Epoch :  2 Iteration :  300  Loss :  0.6800103759765626\n",
      "Epoch :  2 Iteration :  400  Loss :  0.6665071105957031\n",
      "Epoch :  2 Iteration :  500  Loss :  0.6536328735351562\n",
      "Epoch :  2 Iteration :  600  Loss :  0.6438287862141927\n",
      "Epoch :  2  Loss :  0.6438287862141927\n",
      "Epoch :  3 Iteration :  100  Loss :  0.5686284255981445\n",
      "Epoch :  3 Iteration :  200  Loss :  0.5605281448364258\n",
      "Epoch :  3 Iteration :  300  Loss :  0.552113037109375\n",
      "Epoch :  3 Iteration :  400  Loss :  0.5467464828491211\n",
      "Epoch :  3 Iteration :  500  Loss :  0.5412192993164062\n",
      "Epoch :  3 Iteration :  600  Loss :  0.5368143208821614\n",
      "Epoch :  3  Loss :  0.5368143208821614\n",
      "Epoch :  4 Iteration :  100  Loss :  0.5169053649902344\n",
      "Epoch :  4 Iteration :  200  Loss :  0.5093808746337891\n",
      "Epoch :  4 Iteration :  300  Loss :  0.4999670918782552\n",
      "Epoch :  4 Iteration :  400  Loss :  0.49361625671386716\n",
      "Epoch :  4 Iteration :  500  Loss :  0.48953622436523436\n",
      "Epoch :  4 Iteration :  600  Loss :  0.4852027384440104\n",
      "Epoch :  4  Loss :  0.4852027384440104\n",
      "Epoch :  5 Iteration :  100  Loss :  0.4666324234008789\n",
      "Epoch :  5 Iteration :  200  Loss :  0.46710086822509767\n",
      "Epoch :  5 Iteration :  300  Loss :  0.4613409932454427\n",
      "Epoch :  5 Iteration :  400  Loss :  0.46109867095947266\n",
      "Epoch :  5 Iteration :  500  Loss :  0.45700311279296874\n",
      "Epoch :  5 Iteration :  600  Loss :  0.4536595662434896\n",
      "Epoch :  5  Loss :  0.4536595662434896\n",
      "Epoch :  6 Iteration :  100  Loss :  0.44979766845703123\n",
      "Epoch :  6 Iteration :  200  Loss :  0.4441790771484375\n",
      "Epoch :  6 Iteration :  300  Loss :  0.4403648885091146\n",
      "Epoch :  6 Iteration :  400  Loss :  0.43603622436523437\n",
      "Epoch :  6 Iteration :  500  Loss :  0.43246844482421876\n",
      "Epoch :  6 Iteration :  600  Loss :  0.4317945353190104\n",
      "Epoch :  6  Loss :  0.4317945353190104\n",
      "Epoch :  7 Iteration :  100  Loss :  0.42044113159179686\n",
      "Epoch :  7 Iteration :  200  Loss :  0.42245193481445314\n",
      "Epoch :  7 Iteration :  300  Loss :  0.4188298034667969\n",
      "Epoch :  7 Iteration :  400  Loss :  0.4190972900390625\n",
      "Epoch :  7 Iteration :  500  Loss :  0.416935302734375\n",
      "Epoch :  7 Iteration :  600  Loss :  0.41554463704427086\n",
      "Epoch :  7  Loss :  0.41554463704427086\n",
      "Epoch :  8 Iteration :  100  Loss :  0.41779045104980467\n",
      "Epoch :  8 Iteration :  200  Loss :  0.4116276931762695\n",
      "Epoch :  8 Iteration :  300  Loss :  0.4088660685221354\n",
      "Epoch :  8 Iteration :  400  Loss :  0.4071407699584961\n",
      "Epoch :  8 Iteration :  500  Loss :  0.4050419616699219\n",
      "Epoch :  8 Iteration :  600  Loss :  0.40283231099446615\n",
      "Epoch :  8  Loss :  0.40283231099446615\n",
      "Epoch :  9 Iteration :  100  Loss :  0.39311019897460936\n",
      "Epoch :  9 Iteration :  200  Loss :  0.38666858673095705\n",
      "Epoch :  9 Iteration :  300  Loss :  0.39249514261881513\n",
      "Epoch :  9 Iteration :  400  Loss :  0.3921284866333008\n",
      "Epoch :  9 Iteration :  500  Loss :  0.39458038330078127\n",
      "Epoch :  9 Iteration :  600  Loss :  0.39254783630371093\n",
      "Epoch :  9  Loss :  0.39254783630371093\n",
      "Epoch :  10 Iteration :  100  Loss :  0.384141731262207\n",
      "Epoch :  10 Iteration :  200  Loss :  0.38537723541259766\n",
      "Epoch :  10 Iteration :  300  Loss :  0.3889758555094401\n",
      "Epoch :  10 Iteration :  400  Loss :  0.3888211441040039\n",
      "Epoch :  10 Iteration :  500  Loss :  0.38833502197265624\n",
      "Epoch :  10 Iteration :  600  Loss :  0.384043706258138\n",
      "Epoch :  10  Loss :  0.384043706258138\n",
      "Training Done !\n"
     ]
    }
   ],
   "source": [
    "batch_size = 100\n",
    "\n",
    "data_iter = DataLoader(mnist_train, batch_size=100, shuffle=True, num_workers=1)\n",
    "\n",
    "for epoch in range(10):\n",
    "    \n",
    "    avg_loss = 0\n",
    "    total_batch = len(mnist_train)//batch_size\n",
    "    \n",
    "    for i, (batch_img, batch_lab) in enumerate(data_iter):\n",
    "        \n",
    "        X = batch_img.view(-1, 28*28).to(device)\n",
    "        Y = batch_lab.to(device)\n",
    "        \n",
    "        y_pred = model.forward(X)\n",
    "        \n",
    "        loss = criterion(y_pred, Y)\n",
    "        # Zero gradients, perform a backward pass, and update the weights.\n",
    "\n",
    "        optimizer.zero_grad()\n",
    "        loss.backward()\n",
    "        optimizer.step()\n",
    "        avg_loss += loss\n",
    "        if (i+1)%100 == 0 :\n",
    "            print(\"Epoch : \", epoch+1, \"Iteration : \", i+1, \" Loss : \", avg_loss.data.cpu().numpy()/(i+1))\n",
    "    print(\"Epoch : \", epoch+1, \" Loss : \", avg_loss.data.cpu().numpy()/(i+1))\n",
    "print(\"Training Done !\")"
   ]
  },
  {
   "cell_type": "markdown",
   "metadata": {},
   "source": [
    "# Evaluation"
   ]
  },
  {
   "cell_type": "code",
   "execution_count": 7,
   "metadata": {},
   "outputs": [
    {
     "name": "stdout",
     "output_type": "stream",
     "text": [
      "Accuracy :  90.01\n"
     ]
    }
   ],
   "source": [
    "test_img = mnist_test.test_data.view(-1, 28*28).type(torch.FloatTensor)\n",
    "test_lab = mnist_test.test_labels\n",
    "outputs = model.forward(test_img)\n",
    "pred_val, pred_idx = torch.max(outputs.data, 1)\n",
    "correct = (pred_idx == test_lab).sum()\n",
    "print('Accuracy : ', correct.data.numpy()/len(test_img)*100)"
   ]
  },
  {
   "cell_type": "markdown",
   "metadata": {},
   "source": [
    "# Testing"
   ]
  },
  {
   "cell_type": "code",
   "execution_count": 9,
   "metadata": {},
   "outputs": [
    {
     "data": {
      "image/png": "[encoded data removed]",
      "text/plain": [
       "<Figure size 432x288 with 1 Axes>"
      ]
     },
     "metadata": {
      "needs_background": "light"
     },
     "output_type": "display_data"
    }
   ],
   "source": [
    "r = np.random.randint(0, len(mnist_test)-1)\n",
    "X_single_data = mnist_test.test_data[r:r + 1].view(-1,28*28).to(device, dtype = torch.float)\n",
    "Y_single_data = mnist_test.test_labels[r:r + 1].to(device, dtype = torch.long)\n",
    "\n",
    "single_prediction = model(X_single_data)\n",
    "plt.imshow(X_single_data.data.view(28,28).cpu().numpy(), cmap='gray')\n",
    "plt.title(\"Label : {}, Prediction : {}\".format(Y_single_data.data.cpu().view(1).numpy(), torch.max(single_prediction.data, 1)[1].cpu().numpy()))\n",
    "plt.show()"
   ]
  },
  {
   "cell_type": "code",
   "execution_count": null,
   "metadata": {},
   "outputs": [],
   "source": []
  }
 ],
 "metadata": {
  "kernelspec": {
   "display_name": "Python 3",
   "language": "python",
   "name": "python3"
  },
  "language_info": {
   "codemirror_mode": {
    "name": "ipython",
    "version": 3
   },
   "file_extension": ".py",
   "mimetype": "text/x-python",
   "name": "python",
   "nbconvert_exporter": "python",
   "pygments_lexer": "ipython3",
   "version": "3.7.1"
  }
 },
 "nbformat": 4,
 "nbformat_minor": 2
}
